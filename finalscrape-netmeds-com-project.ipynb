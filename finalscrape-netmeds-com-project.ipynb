{
 "cells": [
  {
   "cell_type": "markdown",
   "metadata": {},
   "source": [
    "\n",
    "# Scraping  Selected Categories on netmeds.com using Python\n",
    "\n"
   ]
  },
  {
   "cell_type": "markdown",
   "metadata": {},
   "source": [
    "![banner-image](https://i.imgur.com/MrX3wdW.png)\n",
    "\n"
   ]
  },
  {
   "cell_type": "markdown",
   "metadata": {},
   "source": [
    "# Introduction:\n",
    "netmeds.com is a one-stop healthcare shop containing list of product with different categories. There are exclusive discounts all year round. They also call themselves as `India Ki Pharmacy` where consumer can buy medicines and wellness products using online portal or app.\n",
    "\n",
    "The page https://www.netmeds.com/non-prescriptions/diabetes-support provides a list of categories on netmeds.com. In this project, we will select category  and retrieve information from this page using _web scraping_  : the process of extracting information from a website in an automated fashion using code.\n",
    "\n",
    "We'll use the Python library `requests` and `beautifulsoup4` to scrape data from this page.\n",
    "\n"
   ]
  },
  {
   "cell_type": "markdown",
   "metadata": {},
   "source": [
    "# Project Outline:\n",
    "Here's an outline of the steps we'll follow:\n",
    "1. Define the webpage.\n",
    "2. Download the webpage using `requests`.\n",
    "3. Parse the HTML source code using `BeautifulSoup`.\n",
    "4. Extract the list of category Names.\n",
    "5. Extract the list of Sub-category(name and href).\n",
    "6. Extract all Category and their Sub-category data.\n",
    "7. Extract Product Name, BuyPrice, MRP and Discount from Sub-category.\n",
    "8. Extract Current Page and Next Page Product Details (Product Name, BuyPrice, MRP and Discount) from Sub-category. Get the details till the page has next button.\n",
    "9. Scrape the data by compiling Python lists and dictionaries. \n",
    "10. Save it into a CSV file and read the CSV file.\n",
    "\n",
    "\n",
    "By the end of the project, \n",
    "1. We will create a CSV file named as Category name containing list of product details of every sub-category in the following format.\n",
    "\n",
    "`Category Name,Sub Category Name,Product Name,Buy Price,MRP,product_discount`\n",
    "\n",
    "`Diabetes Support,Diabetes Care - Ayurveda,Kapiva Karela Jamun Juice 1 ltr, 296.65, 349.00,15%`"
   ]
  },
  {
   "cell_type": "markdown",
   "metadata": {},
   "source": [
    "## How to Run the Code\n",
    "\n",
    "You can execute the code using the \"Run\" button at the top of this page and selecting 'Run on Binder'. You can make changes and save your own version of the notebook to [Jovian](https://www.jovian.ai)  by executing the following cells."
   ]
  },
  {
   "cell_type": "markdown",
   "metadata": {},
   "source": [
    "## Installation and set-up."
   ]
  },
  {
   "cell_type": "code",
   "execution_count": 1,
   "metadata": {},
   "outputs": [],
   "source": [
    "!pip install jovian --upgrade --quiet"
   ]
  },
  {
   "cell_type": "code",
   "execution_count": 2,
   "metadata": {},
   "outputs": [],
   "source": [
    "import jovian"
   ]
  },
  {
   "cell_type": "markdown",
   "metadata": {},
   "source": [
    "- The library is installed and imported"
   ]
  },
  {
   "cell_type": "code",
   "execution_count": 3,
   "metadata": {},
   "outputs": [],
   "source": [
    "!pip install requests --upgrade --quiet\n",
    "import requests\n",
    "!pip install beautifulsoup4 --upgrade --quiet\n",
    "from bs4 import BeautifulSoup\n",
    "import pandas as pd\n",
    "import os"
   ]
  },
  {
   "cell_type": "markdown",
   "metadata": {},
   "source": [
    "# Define the webpage."
   ]
  },
  {
   "cell_type": "code",
   "execution_count": 4,
   "metadata": {},
   "outputs": [],
   "source": [
    "# ````````````````````````````MAIN URL TO DEFINE THE WEBSITE ````````````````````````````\n",
    "## BASIC URL \n",
    "main_url = \"https://www.netmeds.com/non-prescriptions/diabetes-support\"    "
   ]
  },
  {
   "cell_type": "markdown",
   "metadata": {},
   "source": [
    "# Download the webpage using `requests` &  Parse the HTML source code using `BeautifulSoup`.\n",
    "\n",
    "- Let's define a function `get_BSoupdoc_fromUrl()` for parsing the data using BeautifulSoup.\n",
    "1. To download the webpage, we use `requests.get` function to return a response object containing the data from the webpage.\n",
    "2. The `.statuscode` propery can be used to check if the response was successful. A successful response will have the [HTTP status code](https://developer.mozilla.org/en-US/docs/Web/HTTP/Status) between 200 to 299.\n",
    "3. We are parsing the data using `BeautifulSoup`"
   ]
  },
  {
   "cell_type": "code",
   "execution_count": 5,
   "metadata": {},
   "outputs": [],
   "source": [
    "#``````````````````````FUNCTION DEFINED FOR PARSING USING BEAUTIFULSOUP``````````````````````````````\n",
    "def get_BSoupdoc_fromUrl(url):                                           \n",
    "    response = requests.get(url)           # Download the webpage using request function\n",
    "    if response.status_code != 200:        # Status check for 200\n",
    "        print('Not available')\n",
    "        raise Exception('Failed to fetch the data from {}'.format(category_link))\n",
    "    return BeautifulSoup(response.text,'html.parser')  # beautiful soup document\n",
    "\n"
   ]
  },
  {
   "cell_type": "markdown",
   "metadata": {},
   "source": [
    " Check the type of data using `type()`"
   ]
  },
  {
   "cell_type": "code",
   "execution_count": 6,
   "metadata": {},
   "outputs": [],
   "source": [
    "main_doc = get_BSoupdoc_fromUrl(main_url)"
   ]
  },
  {
   "cell_type": "markdown",
   "metadata": {},
   "source": [
    "# Extract category Name and sub-category name."
   ]
  },
  {
   "cell_type": "markdown",
   "metadata": {},
   "source": [
    "## Extract the list of category Names.\n",
    "\n",
    "![](https://i.imgur.com/3nIIFDd.png)\n",
    "\n",
    "- Let's define a function `get_main_categoryList()` to get the list of categories.\n",
    "\n",
    "1. Create a variable with blank list `catname_list = []`.\n",
    "2. We have used for loop in `<'ul', class_ = 'cat-menu'> tag, <'li',recursive=False> tag and <\"a\", class_='cat-submenu'> tag` for getting the list category.\n",
    "3. `catname = a.text` will give the category name in text format.\n",
    "4. `catname_list.append(catname)` will add the category name to the list.\n",
    "5. `return catname_list;` returns the value in a list out from the function. "
   ]
  },
  {
   "cell_type": "code",
   "execution_count": 7,
   "metadata": {},
   "outputs": [],
   "source": [
    "#``````````````````````FUNCTION DEFINED FOR GETTING CATEGORY LIST``````````````````````````````````\n",
    "def get_main_categoryList(doc):\n",
    "    catname_list = []\n",
    "    categoryMenu = doc.find_all('ul', class_ = 'cat-menu') ## Get category list using find_all in ('ul', class_ = 'cat-menu')\n",
    "    for menuList in categoryMenu:\n",
    "        for category in menuList.find_all('li',recursive=False): ## Finding 'li' into list of list using recursive = False\n",
    "            for a in category.find_all(\"a\", class_='cat-submenu'): ## Finding Catergory Name using \"a\", class_='cat-submenu'\n",
    "                catname = a.text\n",
    "                catname_list.append(catname)\n",
    "    return catname_list;# [\"Ayurveda\",\"Diabetic Support\"]    ## Returning list of category \n",
    "\n"
   ]
  },
  {
   "cell_type": "code",
   "execution_count": 8,
   "metadata": {},
   "outputs": [],
   "source": [
    "category_list = get_main_categoryList(main_doc);"
   ]
  },
  {
   "cell_type": "markdown",
   "metadata": {},
   "source": [
    "- We are getting list of category from variable `category_list`\n",
    "\n",
    "OUTPUT: \n",
    "['Veterinary',\n",
    " 'Ayush',\n",
    " 'Fitness',\n",
    " 'Mom & Baby',\n",
    " 'Sexual Wellness',\n",
    " 'Treatments',\n",
    " 'Devices',\n",
    " 'Health Conditions',\n",
    " 'Otc Deals',\n",
    " 'Eyewear',\n",
    " 'Covid Essentials',\n",
    " 'Surgical',\n",
    " 'Diabetes Support',\n",
    " 'Fragrances',\n",
    " 'Make-Up',\n",
    " 'Hair',\n",
    " \"Men's Grooming\",\n",
    " 'Skin Care',\n",
    " 'Tools & Appliances',\n",
    " 'Wellness',\n",
    " 'Personal Care']"
   ]
  },
  {
   "cell_type": "markdown",
   "metadata": {},
   "source": [
    "## Extract the list of Sub-category(name and href).\n",
    "\n",
    "![](https://i.imgur.com/g8YOZbl.png)\n",
    "\n",
    "- Let's define a function `get_subcategory_of_category()` to get the list of subcategories (name and href)\n",
    "\n",
    "1. Creating a blank list `subcat_list = []`\n",
    "2. We have used for loop to get into `<'ul', class_ = 'cat-menu'> tag, <'li',recursive=False> tag and <\"a\", class_='cat-submenu'> tag` for getting the list of the category names.\n",
    "3. `if a.text == categoryName:` will check for specific category names.\n",
    "4. We have mentioned `<a tag> class_='cat-submenu-level1'` to get Subcategory details.\n",
    "5. We have created dictionary as  `bv = dict()` to store `name and href` of Subcategory in list of dictionary.\n",
    "6. `subcat_list.append(bv)` will add dictionary data in list.\n",
    "\n",
    "OUTPUT format :- \n",
    "                {'name': 'SubcategoryName',\n",
    "                  'href' : 'Subcategorylink'}"
   ]
  },
  {
   "cell_type": "code",
   "execution_count": 9,
   "metadata": {},
   "outputs": [],
   "source": [
    "#`````````````````````````FUNCTION DEFINED FOR GETTING SUB-CATEGORY NAME & HREF`````````````````````\n",
    "def get_subcategory_of_category(doc, category_name):\n",
    "    subcat_list = []\n",
    "    categoryMenu = doc.find_all('ul', class_ = 'cat-menu')        ##  Finding all data in menu using ('ul', class_ = 'cat-menu')\n",
    "    for menuList in categoryMenu:\n",
    "        for category in menuList.find_all('li',recursive=False):  ##  Finding 'li' into list of list using recursive = False\n",
    "            for a in category.find_all(\"a\", class_='cat-submenu'):  ##  Finding Catergory Name using \"a\", class_='cat-submenu'\n",
    "                if a.text == category_name:\n",
    "                    for subList in category.find_all(\"a\", class_='cat-submenu-level1'): ## Finding Subcategory Name using \"a\", class_='cat-submenu-level1'\n",
    "                        bv = dict()                             ## Create a dictionary\n",
    "                        bv['name']=subList.text                 ## Getting Name in dictionary                              \n",
    "                        bv['href']= subList[\"href\"]             ## Getting href in dictionary    \n",
    "                        subcat_list.append(bv)                  ## Compiling all data of dictionary in list\n",
    "    return subcat_list;        # [dict({name:\"\",href:\"\"})]\n",
    "\n",
    "\n",
    "\n"
   ]
  },
  {
   "cell_type": "code",
   "execution_count": 10,
   "metadata": {},
   "outputs": [],
   "source": [
    "subcategory_list = get_subcategory_of_category(main_doc, 'Diabetes Support')\n"
   ]
  },
  {
   "cell_type": "markdown",
   "metadata": {},
   "source": [
    "It is stored into a list of dictionary using variable `subcategory_list`\n",
    "\n",
    "OUTPUT: \n",
    "\n",
    "\n",
    "[{'name': 'Diabetes Care - Ayurveda',\n",
    "  'href': 'https://www.netmeds.com/non-prescriptions/diabetes-support/diabetes-care-ayurveda'},\n",
    " {'name': 'Glucometers',\n",
    "  'href': 'https://www.netmeds.com/non-prescriptions/diabetes-support/glucometers'},\n",
    " {'name': 'Lancets & Test Strips',\n",
    "  'href': 'https://www.netmeds.com/non-prescriptions/diabetes-support/lancets-test-strips'},\n",
    " {'name': 'Sugar Substitutes',\n",
    "  'href': 'https://www.netmeds.com/non-prescriptions/diabetes-support/sugar-substitutes'},\n",
    " {'name': 'Diabetes Management Supplements',\n",
    "  'href': 'https://www.netmeds.com/non-prescriptions/diabetes-support/diabetes-management-supplements'}]"
   ]
  },
  {
   "cell_type": "markdown",
   "metadata": {},
   "source": [
    "## Extract all Category and their Sub-category data.\n",
    "\n",
    "\n",
    "- Let's define a function `get_all_catandsubcat_data()` to get the list of all subcategories and categories.\n",
    "\n",
    "1. `subcategory_list = dict()` will create dictionary.\n",
    "2. `data` is retrived from `data = get_subcategory_of_category(doc,category)` which will give list of dictionary of subcategory(name & href).\n",
    "3.  `subCategoryList[category]=data` mentions category as key.\n",
    "4. `return subCategoryList;` will returns values of category as key and values as list of dictionary of subcategory(containing name and href).\n",
    "\n",
    "OUTPUT format :- \n",
    " \n",
    "{CategoryName_1 : [{'name_1': 'SubcategoryName_1', 'href_1' : 'Subcategorylink'}, \n",
    "    {'name_2': 'SubcategoryName_2', 'href_2' : 'Subcategorylink'}, \n",
    "    {'name_3': 'SubcategoryName_3', 'href_3' : 'Subcategorylink'},....................................................\n",
    "    CategoryName_N : [{'name_1': 'SubcategoryName_1', 'href_1' : 'Subcategorylink'}, \n",
    "        {'name_2': 'SubcategoryName_2', 'href_2' : 'Subcategorylink'}, \n",
    "        {'name_3': 'SubcategoryName_3', 'href_3' : 'Subcategorylink }]"
   ]
  },
  {
   "cell_type": "code",
   "execution_count": 11,
   "metadata": {},
   "outputs": [],
   "source": [
    "#```````````````````````````` FUNCTION DEFINED FOR GETTING ALL SUB-CATEGORY & CATEGORY DATA``````````````````````\n",
    "def get_all_catandsubcat_data(doc, category_list):\n",
    "    subcategory_list = dict()                             ## Creating dictionary\n",
    "    for category in category_list:\n",
    "        data = get_subcategory_of_category(doc,category)    ## Calling getSubCategoryOfCategory function here\n",
    "        subcategory_list[category]=data                   ## Assingning key to category. Assigning values to Subcategory(name,href) as \n",
    "    return subcategory_list;"
   ]
  },
  {
   "cell_type": "code",
   "execution_count": 12,
   "metadata": {},
   "outputs": [],
   "source": [
    "get_all_catandsubcat = get_all_catandsubcat_data(main_doc, category_list)\n"
   ]
  },
  {
   "cell_type": "markdown",
   "metadata": {},
   "source": [
    "OUTPUT:- - The output will be in dictionary containing Category as key and a list of dictionary with name as key and href as values\n",
    "\n",
    "\n",
    "{'Veterinary': [{'name': 'Petcare',\n",
    "   'href': 'https://www.netmeds.com/non-prescriptions/veterinary/petcare'},\n",
    "  {'name': 'Farm Animals',\n",
    "   'href': 'https://www.netmeds.com/non-prescriptions/veterinary/farm-animals'},\n",
    "  {'name': 'Poultry',\n",
    "   'href': 'https://www.netmeds.com/non-prescriptions/veterinary/poultry'},\n",
    "  {'name': 'Aquaculture',\n",
    "   'href': 'https://www.netmeds.com/non-prescriptions/veterinary/aquaculture'}],\n",
    " 'Ayush': [{'name': 'Homeopathy',\n",
    "   'href': 'https://www.netmeds.com/non-prescriptions/ayush/homeopathy'},\n",
    "  {'name': 'Ayurvedic',\n",
    "   'href': 'https://www.netmeds.com/non-prescriptions/ayush/ayurvedic'},\n",
    "  {'name': 'Unani',\n",
    "   'href': 'https://www.netmeds.com/non-prescriptions/ayush/unani'},\n",
    "  {'name': 'Siddha',\n",
    "   'href': 'https://www.netmeds.com/non-prescriptions/ayush/siddha'}],\n",
    " 'Fitness': [{'name': 'Vitamins And Supplements',\n",
    "   'href': 'https://www.netmeds.com/non-prescriptions/fitness/vitamins-and-supplements'},\n",
    "  {'name': 'Family Nutrition',\n",
    "   'href': 'https://www.netmeds.com/non-prescriptions/fitness/family-nutrition'},\n",
    "  {'name': 'Health Food And Drinks',\n",
    "   'href': 'https://www.netmeds.com/non-prescriptions/fitness/health-food-and-drinks'},\n",
    "  {'name': 'Ayurvedic Supplements',\n",
    "   'href': 'https://www.netmeds.com/non-prescriptions/fitness/ayurvedic-supplements'},\n",
    "  {'name': 'Sports Supplements',\n",
    "   'href': 'https://www.netmeds.com/non-prescriptions/fitness/sports-supplements'},\n",
    "  {'name': 'Smoking Cessation Support',\n",
    "   'href': 'https://www.netmeds.com/non-prescriptions/fitness/smoking-cessation-support'},\n",
    "  {'name': 'Weight Management',\n",
    "   'href': 'https://www.netmeds.com/non-prescriptions/fitness/weight-management'}],\n",
    " 'Mom & Baby': [{'name': 'Baby Care',\n",
    "   'href': 'https://www.netmeds.com/non-prescriptions/mom-baby/baby-care'},\n",
    "  {'name': 'Feminine Hygiene',\n",
    "   'href': 'https://www.netmeds.com/non-prescriptions/mom-baby/feminine-hygiene'},\n",
    "  {'name': 'Maternity Care',\n",
    "   'href': 'https://www.netmeds.com/non-prescriptions/mom-baby/maternity-care'},\n",
    "  {'name': 'Toys & Games',\n",
    "   'href': 'https://www.netmeds.com/non-prescriptions/mom-baby/toys-games'},\n",
    "  {'name': 'Baby Bath Time',\n",
    "   'href': 'https://www.netmeds.com/non-prescriptions/mom-baby/baby-bath-time'},\n",
    "  {'name': 'Maternity Accessories',\n",
    "   'href': 'https://www.netmeds.com/non-prescriptions/mom-baby/maternity-accessories'}],\n",
    " 'Sexual Wellness': [{'name': 'Lubricants',\n",
    "   'href': 'https://www.netmeds.com/non-prescriptions/sexual-wellness/lubricants'},\n",
    "  {'name': 'Massagers/Vibrators',\n",
    "   'href': 'https://www.netmeds.com/non-prescriptions/sexual-wellness/massagers-vibrators'},\n",
    "  {'name': 'Sprays/Gels',\n",
    "   'href': 'https://www.netmeds.com/non-prescriptions/sexual-wellness/sprays-gels'},\n",
    "  {'name': 'Condoms',\n",
    "   'href': 'https://www.netmeds.com/non-prescriptions/sexual-wellness/condoms'},\n",
    "  {'name': 'Sexual Health Supplements',\n",
    "   'href': 'https://www.netmeds.com/non-prescriptions/sexual-wellness/sexual-health-supplements'}],\n",
    " 'Treatments': [{'name': 'Diabetes Care',\n",
    "   'href': 'https://www.netmeds.com/non-prescriptions/treatments/diabetes-care'},\n",
    "  {'name': 'First Aid',\n",
    "   'href': 'https://www.netmeds.com/non-prescriptions/treatments/first-aid'},\n",
    "  {'name': 'Pain Relief Application',\n",
    "   'href': 'https://www.netmeds.com/non-prescriptions/treatments/pain-relief-application'},\n",
    "  {'name': 'Usual Symptoms',\n",
    "   'href': 'https://www.netmeds.com/non-prescriptions/treatments/usual-symptoms'},\n",
    "  {'name': 'General Discomfort',\n",
    "   'href': 'https://www.netmeds.com/non-prescriptions/treatments/general-discomfort'},\n",
    "  {'name': 'Cough & Cold',\n",
    "   'href': 'https://www.netmeds.com/non-prescriptions/treatments/cough-cold'},\n",
    "  {'name': 'General Health Supplements',\n",
    "   'href': 'https://www.netmeds.com/non-prescriptions/treatments/general-health-supplements'},\n",
    "  {'name': 'Smoking Cessation (T)',\n",
    "   'href': 'https://www.netmeds.com/non-prescriptions/treatments/smoking-cessation-t'},\n",
    "  {'name': 'Skin Treatment',\n",
    "   'href': 'https://www.netmeds.com/non-prescriptions/treatments/skin-treatment'}],\n",
    " 'Devices': [{'name': 'Orthopaedics',\n",
    "   'href': 'https://www.netmeds.com/non-prescriptions/devices/orthopaedics'},\n",
    "  {'name': 'Breathe Easy',\n",
    "   'href': 'https://www.netmeds.com/non-prescriptions/devices/breathe-easy'},\n",
    "  {'name': 'Measurements',\n",
    "   'href': 'https://www.netmeds.com/non-prescriptions/devices/measurements'},\n",
    "  {'name': 'Surgical Accessories',\n",
    "   'href': 'https://www.netmeds.com/non-prescriptions/devices/surgical-accessories'}],\n",
    " 'Health Conditions': [{'name': 'Bone And Joint Pain',\n",
    "   'href': 'https://www.netmeds.com/non-prescriptions/health-conditions/bone-and-joint-pain'},\n",
    "  {'name': 'Liver Care',\n",
    "   'href': 'https://www.netmeds.com/non-prescriptions/health-conditions/liver-care'},\n",
    "  {'name': 'Stomach Care',\n",
    "   'href': 'https://www.netmeds.com/non-prescriptions/health-conditions/stomach-care'},\n",
    "  {'name': 'Diabetic Care',\n",
    "   'href': 'https://www.netmeds.com/non-prescriptions/health-conditions/diabetic-care'},\n",
    "  {'name': 'Lung Care',\n",
    "   'href': 'https://www.netmeds.com/non-prescriptions/health-conditions/lung-care'},\n",
    "  {'name': 'Piles Care',\n",
    "   'href': 'https://www.netmeds.com/non-prescriptions/health-conditions/piles-care'},\n",
    "  {'name': 'Mental Care',\n",
    "   'href': 'https://www.netmeds.com/non-prescriptions/health-conditions/mental-care'},\n",
    "  {'name': 'Cold And Fever',\n",
    "   'href': 'https://www.netmeds.com/non-prescriptions/health-conditions/cold-and-fever'},\n",
    "  {'name': \"Women's Care\",\n",
    "   'href': 'https://www.netmeds.com/non-prescriptions/health-conditions/women-s-care'},\n",
    "  {'name': 'Weight Care',\n",
    "   'href': 'https://www.netmeds.com/non-prescriptions/health-conditions/weight-care'},\n",
    "  {'name': 'De-Addiction',\n",
    "   'href': 'https://www.netmeds.com/non-prescriptions/health-conditions/de-addiction'},\n",
    "  {'name': 'Cardiac Care',\n",
    "   'href': 'https://www.netmeds.com/non-prescriptions/health-conditions/cardiac-care'},\n",
    "  {'name': 'Immunity Care',\n",
    "   'href': 'https://www.netmeds.com/non-prescriptions/health-conditions/immunity-care'}],\n",
    " 'Otc Deals': [{'name': \"Valentine's day offers\",\n",
    "   'href': 'https://www.netmeds.com/non-prescriptions/otc-deals/valentines-day-offers'},\n",
    "  {'name': 'Healthvit cenvitan deals',\n",
    "   'href': 'https://www.netmeds.com/non-prescriptions/healthvit-cenvitan-deals'},\n",
    "  {'name': \"Women's Day Special Offers\",\n",
    "   'href': 'https://www.netmeds.com/non-prescriptions/otc-deals/womens-day-special-offers'},\n",
    "  {'name': 'Healthvit deals',\n",
    "   'href': 'https://www.netmeds.com/non-prescriptions/otc-deals/healthvit-deals'},\n",
    "  {'name': 'Physiogel',\n",
    "   'href': 'https://www.netmeds.com/non-prescriptions/otc-deals/physiogel'}],\n",
    " 'Eyewear': [{'name': 'Contact Lenses (EW)',\n",
    "   'href': 'https://www.netmeds.com/non-prescriptions/eyewear/contact-lenses-ew'},\n",
    "  {'name': 'Eye Glasses',\n",
    "   'href': 'https://www.netmeds.com/non-prescriptions/eyewear/eye-glasses'},\n",
    "  {'name': 'Reading Glasses',\n",
    "   'href': 'https://www.netmeds.com/non-prescriptions/eyewear/reading-glasses'},\n",
    "  {'name': 'Sunglasses',\n",
    "   'href': 'https://www.netmeds.com/non-prescriptions/eyewear/sunglasses'},\n",
    "  {'name': 'Computer Glasses',\n",
    "   'href': 'https://www.netmeds.com/non-prescriptions/eyewear/computer-glasses'}],\n",
    " 'Covid Essentials': [{'name': 'Personal & Home Essentials',\n",
    "   'href': 'https://www.netmeds.com/non-prescriptions/covid-essentials/personal-home-essentials'},\n",
    "  {'name': 'Mask, Gloves & Protective Equipment',\n",
    "   'href': 'https://www.netmeds.com/non-prescriptions/covid-essentials/mask-gloves-protective-equipment'},\n",
    "  {'name': 'Immunity Booster',\n",
    "   'href': 'https://www.netmeds.com/non-prescriptions/covid-essentials/immunity-booster'},\n",
    "  {'name': 'Business Essentials',\n",
    "   'href': 'https://www.netmeds.com/non-prescriptions/covid-essentials/business-essentials'},\n",
    "  {'name': 'Travel Essentials',\n",
    "   'href': 'https://www.netmeds.com/non-prescriptions/covid-essentials/travel-essentials'},\n",
    "  {'name': 'Oxygen Can',\n",
    "   'href': 'https://www.netmeds.com/non-prescriptions/covid-essentials/oxygen-can'}],\n",
    " 'Surgical': [{'name': 'Dressing',\n",
    "   'href': 'https://www.netmeds.com/non-prescriptions/surgical/dressing'},\n",
    "  {'name': 'Gi Care',\n",
    "   'href': 'https://www.netmeds.com/non-prescriptions/surgical/gi-care'},\n",
    "  {'name': 'Iv Infusion',\n",
    "   'href': 'https://www.netmeds.com/non-prescriptions/surgical/iv-infusion'},\n",
    "  {'name': 'Respiratory Supplies',\n",
    "   'href': 'https://www.netmeds.com/non-prescriptions/surgical/respiratory-supplies'},\n",
    "  {'name': 'Surgical Consumables',\n",
    "   'href': 'https://www.netmeds.com/non-prescriptions/surgical/surgical-consumables'},\n",
    "  {'name': 'Surgical Instrument',\n",
    "   'href': 'https://www.netmeds.com/non-prescriptions/surgical/surgical-instrument'},\n",
    "  {'name': 'Urinary Care',\n",
    "   'href': 'https://www.netmeds.com/non-prescriptions/surgical/urinary-care'},\n",
    "  {'name': 'Wound Treatment',\n",
    "   'href': 'https://www.netmeds.com/non-prescriptions/surgical/wound-treatment'}],\n",
    " 'Diabetes Support': [{'name': 'Diabetes Care - Ayurveda',\n",
    "   'href': 'https://www.netmeds.com/non-prescriptions/diabetes-support/diabetes-care-ayurveda'},\n",
    "  {'name': 'Glucometers',\n",
    "   'href': 'https://www.netmeds.com/non-prescriptions/diabetes-support/glucometers'},\n",
    "  {'name': 'Lancets & Test Strips',\n",
    "   'href': 'https://www.netmeds.com/non-prescriptions/diabetes-support/lancets-test-strips'},\n",
    "  {'name': 'Sugar Substitutes',\n",
    "   'href': 'https://www.netmeds.com/non-prescriptions/diabetes-support/sugar-substitutes'},\n",
    "  {'name': 'Diabetes Management Supplements',\n",
    "   'href': 'https://www.netmeds.com/non-prescriptions/diabetes-support/diabetes-management-supplements'}],\n",
    " 'Fragrances': [{'name': 'Men',\n",
    "   'href': 'https://www.netmeds.com/non-prescriptions/fragrances/men'},\n",
    "  {'name': 'Unisex',\n",
    "   'href': 'https://www.netmeds.com/non-prescriptions/fragrances/unisex'},\n",
    "  {'name': 'Women',\n",
    "   'href': 'https://www.netmeds.com/non-prescriptions/fragrances/women'}],\n",
    " 'Make-Up': [{'name': 'Lips',\n",
    "   'href': 'https://www.netmeds.com/non-prescriptions/make-up/lips'},\n",
    "  {'name': 'Eyes',\n",
    "   'href': 'https://www.netmeds.com/non-prescriptions/make-up/eyes'},\n",
    "  {'name': 'Nails',\n",
    "   'href': 'https://www.netmeds.com/non-prescriptions/make-up/nails'},\n",
    "  {'name': 'Face Makeup',\n",
    "   'href': 'https://www.netmeds.com/non-prescriptions/make-up/face-makeup'},\n",
    "  {'name': 'Make-Up Tools & Brushes',\n",
    "   'href': 'https://www.netmeds.com/non-prescriptions/make-up/make-up-tools-brushes'}],\n",
    " 'Hair': [{'name': 'Hair Styling',\n",
    "   'href': 'https://www.netmeds.com/non-prescriptions/hair/hair-styling'},\n",
    "  {'name': 'Hair Color',\n",
    "   'href': 'https://www.netmeds.com/non-prescriptions/hair/hair-color'},\n",
    "  {'name': 'Scalp Treatments',\n",
    "   'href': 'https://www.netmeds.com/non-prescriptions/hair/scalp-treatments'},\n",
    "  {'name': 'Shop By Hair Type',\n",
    "   'href': 'https://www.netmeds.com/non-prescriptions/hair/shop-by-hair-type'},\n",
    "  {'name': 'Hair Care',\n",
    "   'href': 'https://www.netmeds.com/non-prescriptions/hair/hair-care'},\n",
    "  {'name': 'Hair Tools & Accessories',\n",
    "   'href': 'https://www.netmeds.com/non-prescriptions/hair/hair-tools-accessories'}],\n",
    " \"Men's Grooming\": [{'name': 'Shaving',\n",
    "   'href': 'https://www.netmeds.com/non-prescriptions/men-s-grooming/shaving'},\n",
    "  {'name': 'Beard Care',\n",
    "   'href': 'https://www.netmeds.com/non-prescriptions/men-s-grooming/beard-care'}],\n",
    " 'Skin Care': [{'name': 'Cleansers',\n",
    "   'href': 'https://www.netmeds.com/non-prescriptions/skin-care/cleansers'},\n",
    "  {'name': 'Masks',\n",
    "   'href': 'https://www.netmeds.com/non-prescriptions/skin-care/masks'},\n",
    "  {'name': 'Moisturizers',\n",
    "   'href': 'https://www.netmeds.com/non-prescriptions/skin-care/moisturizers'},\n",
    "  {'name': 'Sunscreen',\n",
    "   'href': 'https://www.netmeds.com/non-prescriptions/skin-care/sunscreen'},\n",
    "  {'name': 'Eye Care',\n",
    "   'href': 'https://www.netmeds.com/non-prescriptions/skin-care/eye-care'},\n",
    "  {'name': 'Toners & Serums',\n",
    "   'href': 'https://www.netmeds.com/non-prescriptions/skin-care/toners-serums'},\n",
    "  {'name': 'Aromatherapy',\n",
    "   'href': 'https://www.netmeds.com/non-prescriptions/skin-care/aromatherapy'},\n",
    "  {'name': 'Face Skin Care',\n",
    "   'href': 'https://www.netmeds.com/non-prescriptions/skin-care/face-skin-care'}],\n",
    " 'Tools & Appliances': [{'name': 'Hair Styling Tools',\n",
    "   'href': 'https://www.netmeds.com/non-prescriptions/tools-appliances/hair-styling-tools'},\n",
    "  {'name': 'Face/Skin Tools',\n",
    "   'href': 'https://www.netmeds.com/non-prescriptions/tools-appliances/face-skin-tools'},\n",
    "  {'name': 'Massage Tools',\n",
    "   'href': 'https://www.netmeds.com/non-prescriptions/tools-appliances/massage-tools'}],\n",
    " 'Wellness': [{'name': 'Health - Supplements',\n",
    "   'href': 'https://www.netmeds.com/non-prescriptions/wellness/health-supplements'},\n",
    "  {'name': 'Weight - Management',\n",
    "   'href': 'https://www.netmeds.com/non-prescriptions/wellness/weight-management'}],\n",
    " 'Personal Care': [{'name': 'Bathing Accessories',\n",
    "   'href': 'https://www.netmeds.com/non-prescriptions/personal-care/bathing-accessories'},\n",
    "  {'name': 'Face Personal Care',\n",
    "   'href': 'https://www.netmeds.com/non-prescriptions/personal-care/face-personal-care'},\n",
    "  {'name': 'Body Care',\n",
    "   'href': 'https://www.netmeds.com/non-prescriptions/personal-care/body-care'},\n",
    "  {'name': 'Senior Care',\n",
    "   'href': 'https://www.netmeds.com/non-prescriptions/personal-care/senior-care'},\n",
    "  {'name': 'Lip Care',\n",
    "   'href': 'https://www.netmeds.com/non-prescriptions/personal-care/lip-care'},\n",
    "  {'name': 'Oral Care',\n",
    "   'href': 'https://www.netmeds.com/non-prescriptions/personal-care/oral-care'},\n",
    "  {'name': 'Bath & Shower',\n",
    "   'href': 'https://www.netmeds.com/non-prescriptions/personal-care/bath-shower'},\n",
    "  {'name': 'Hands & Feet',\n",
    "   'href': 'https://www.netmeds.com/non-prescriptions/personal-care/hands-feet'},\n",
    "  {'name': 'Home & Health',\n",
    "   'href': 'https://www.netmeds.com/non-prescriptions/personal-care/home-health'},\n",
    "  {'name': 'Personal Care Tools & Accessories',\n",
    "   'href': 'https://www.netmeds.com/non-prescriptions/personal-care/personal-care-tools-accessories'},\n",
    "  {'name': 'Eye Care Lens',\n",
    "   'href': 'https://www.netmeds.com/non-prescriptions/personal-care/eye-care-lens'}]}"
   ]
  },
  {
   "cell_type": "markdown",
   "metadata": {},
   "source": [
    "# Extract Product Details and Get Page Wise Product Details till it has next button."
   ]
  },
  {
   "cell_type": "markdown",
   "metadata": {},
   "source": [
    "## Extract Product Name, BuyPrice, MRP and Discount from Sub-category\n",
    "\n",
    "- Lets define a function `get_productlist_of_subcategory()` for getting Product Name, BuyPrice, MRP and Discount.\n",
    "\n",
    "1. `product_details` will contain html of subcategory page.\n",
    "2. `productlist_detail` will create a empty list.\n",
    "3. Finding productName using `.find('span', class_ = \"clsgetname\")`\n",
    "\n",
    "\n",
    "![](https://i.imgur.com/Qzlt4sL.png)\n",
    "\n",
    "\n",
    "\n",
    "4. Finding BuyPrice using `.find('span', id =\"final_price\")`\n",
    "\n",
    "\n",
    "![](https://i.imgur.com/kWX70Y9.png)\n",
    "\n",
    "\n",
    "\n",
    "5. Finding MRP using `.find('strike', id = \"price\")`\n",
    "\n",
    "\n",
    "![](https://i.imgur.com/FvOwTwy.png)\n",
    "\n",
    "\n",
    "\n",
    "6. Finding Discount using `.find('span', {'class':\"save-badge\"})`\n",
    "\n",
    "\n",
    "![](https://i.imgur.com/XzdLgcp.png)\n",
    "\n",
    "\n",
    "\n",
    " "
   ]
  },
  {
   "cell_type": "markdown",
   "metadata": {},
   "source": [
    "### Lets define a function `create_dict` to add product details in dictionary. \n",
    "1. Create an empty dictionary as `cd = dict()`.\n",
    "2. `cd[\"Category Name\"]= categoryName  & cd[\"Sub Category Name\"]= subCategoryName` are just mentioning names to the dictionary.\n",
    "3. `cd[\"Product Name\"], cd[\"Buy Price\"], cd[\"MRP\"] & cd[\"product_discount\"]` are storing subcategory product details in `cd dictionary`.\n",
    "4.`productlist_details.append(bv)` adding data into list of dictionary."
   ]
  },
  {
   "cell_type": "code",
   "execution_count": 13,
   "metadata": {},
   "outputs": [],
   "source": [
    "#`````````````````````````` FUNCTION DEFINFED FOR CREATING A DICTIONARY  ``````````````````````````\n",
    "def create_dict(category_name, subcategory_name, product_name, product_buyprice, product_mrp, product_discount):\n",
    "    cd=dict()                                        ## Creating Dictionary\n",
    "    cd[\"Category Name\"]= category_name               ## Category Name     \n",
    "    cd[\"Sub Category Name\"]= subcategory_name        ## Sub-category Name\n",
    "    cd[\"Product Name\"]= product_name.text            ## Product Name   \n",
    "    if product_buyprice == None:\n",
    "        cd[\"Buy Price\"] = \"00.00\"                    ## BuyPrice is not mentioned, then put as 00\n",
    "    else:\n",
    "        cd[\"Buy Price\"]= product_buyprice.text[4:]   ## Getting values after Rs. using [4:] i.e only numbers\n",
    "    if product_mrp == None:                          ## If MRP is not mentioned, then put as 00\n",
    "        cd[\"MRP\"] = \"00.00\"\n",
    "    else:\n",
    "        cd[\"MRP\"]= product_mrp.text[3:]              ## Getting values after Rs. using [3:] i.e only numbers\n",
    "    if product_discount == None:                     ## If Discount is not mentioned, then put as 00\n",
    "        cd[\"product_discount\"] = \"00.00\"      \n",
    "    else:\n",
    "        cd[\"product_discount\"]= product_discount.text[:3]    ## Getting values after Rs. using [:3] i.e only numbers\n",
    "    return cd;                                                ## Returning dictionary values"
   ]
  },
  {
   "cell_type": "code",
   "execution_count": 14,
   "metadata": {},
   "outputs": [],
   "source": [
    "#``````````````````````` FUNCTION DEFINED FOR GETTING PRODUCT DETAILS (ProductName, BuyPrice, MRP, Discount) FROM SUB-CATEGORY``````````````````````\n",
    "def get_productlist_of_subcategory(subcategory_doc, category_name, subcategory_name):\n",
    "    #-----------------------------------------------------------------------------------#\n",
    "      # SEARCHING TAG TO GET PRODUCT DETAILS (ProductName, BuyPrice, MRP, Discount) #\n",
    "    product_details = subcategory_doc.find_all('div', class_ ='cat-item')       ## Getting all list of categories using find_all in 'div', class_ ='cat-item'\n",
    "    productlist_details = []                                                   ## Create an empty list\n",
    "    for product_detail in product_details:\n",
    "        product_name = product_detail.find('span', class_ = \"clsgetname\")      ## Getting Product Name mentioned point 3\n",
    "        product_buyprice = product_detail.find('span', id =\"final_price\")      ## Getting Product Buy Price mentioned point 4\n",
    "        product_mrp = product_detail.find('strike', id = \"price\")              ## Getting Product MRP mentioned point 5\n",
    "        product_discount = product_detail.find('span', class_ = \"save-badge\") ## Getting Product Discount mentioned point 6\n",
    "   #--------------------------------------------------------------------------------------#    \n",
    "                 # CREATING DICTIONARY FUNCTION to add product details\n",
    "        bv = create_dict(category_name, subcategory_name, product_name, product_buyprice, product_mrp, product_discount)\n",
    "    #-------------------------------------------------------------------------------------#\n",
    "                            # Appending DICTIONARY in list\n",
    "        productlist_details.append(bv)                               ## Adding dictionary data in list.\n",
    "    return productlist_details                                                  # [dict({name:\"\",mrp:\"\"})]\n",
    "\n"
   ]
  },
  {
   "cell_type": "markdown",
   "metadata": {},
   "source": [
    "## Extract Current Page and Next Page Product Details (Product Name, BuyPrice, MRP and Discount) from Sub-category. Get the product details till the time page has next button.\n",
    "\n",
    "- Lets define a function `get_pagination_wise_subcategory_data()` for getting current and next page Product detail's (Product Name, BuyPrice, MRP and Discount) from sub-category.\n",
    "\n",
    "![](https://i.imgur.com/xt19xlW.png)\n",
    "\n",
    "1. Find Next Button in Subcategory product list page using `.find(\"li\",class_=\"next\")`\n",
    "2. Check for Next button using `nextButton = subDoc.find(\"li\",class_=\"next\")` if Yes, go to step3 or else `return rawData;`\n",
    "3. Find the `<a> tag` using `nextATag = nextButton.find(\"a\")`\n",
    "4. Find the next page URL using `nextPageUrl = nextATag['href']`\n",
    "5. Parse the next page data using Beautiful Soup `subDoc1 = getBSoupDocFromUrl(nextPageUrl)`\n",
    "6. `return get_PaginationWise_SubCategoryData(subDoc1,categoryName,subCategoryName,rawData)` will repeat steps from 1 to 5 until there is no Next button present.\n",
    "7. Once all data achieved then return rawData of all pages."
   ]
  },
  {
   "cell_type": "code",
   "execution_count": 15,
   "metadata": {},
   "outputs": [],
   "source": [
    "#``````````````````````` FUNCTION DEFINED FOR GETTING NEXT PAGE Product Details(ProductName, BuyPrice, MRP, Discount) FROM SUB-CATEGORY``````````````````````\n",
    "\n",
    "# rawdata is none at start of page\n",
    "def get_pagination_wise_subcategory_data(subdoc, category_name, subcategory_name, rawdata):\n",
    "    rawdata =rawdata+ get_productlist_of_subcategory(subdoc, category_name, subcategory_name) # cascading rawData to first page of product details\n",
    "    nextButton = subdoc.find(\"li\",class_=\"next\") # Check for Next Button from <li and class=\"next\"> tag\n",
    "    if nextButton != None:                       # if there is no Next button, then return rawData out of function\n",
    "        nextATag = nextButton.find(\"a\")          # if nextButton present then find <a> tag\n",
    "        if nextATag !=None:\n",
    "            nextPageUrl = nextATag['href']               # get next Page URL \n",
    "            subdoc1 = get_BSoupdoc_fromUrl(nextPageUrl)    # parse the next page using Beautiful Soup.\n",
    "            return get_pagination_wise_subcategory_data(subdoc1,category_name,subcategory_name,rawdata)\n",
    "    return rawdata;\n",
    "    "
   ]
  },
  {
   "cell_type": "markdown",
   "metadata": {},
   "source": [
    "# Scrape the data by compiling Python lists and dictionaries.\n",
    "\n",
    "- Lets define a function `scrape_single_category()` to compile python list and dictionaries.\n",
    "\n",
    "1. We will select specific category and their list of subcategory as `diabeticSuport= subCatgoryDictList[categoryName]`.\n",
    "2. `categoryData = []` creates an empty list.\n",
    "3. `subDoc = getBSoupDocFromUrl(subCategory['href'])` will parse specific link of sub-category data.\n",
    "4. `data = getProductListOfSubCategory` will give the product list of each sub-category (product Name, Buy Price, MRP, Discount)\n"
   ]
  },
  {
   "cell_type": "code",
   "execution_count": 16,
   "metadata": {},
   "outputs": [],
   "source": [
    "#````````````````````````` Defining Scraping function for single category ```````````````````````\n",
    "def scrape_single_category(subcatgory_dictlist, category_name): \n",
    "    diabetic_support= subcatgory_dictlist[category_name]       ## Selecting specific Category and their subcategory list\n",
    "    category_data = []\n",
    "    for subcategory in diabetic_support:\n",
    "        subdoc = get_BSoupdoc_fromUrl(subcategory['href'])    ## Using subCategory['href'] will give link of specific subcategory  \n",
    "        data = get_pagination_wise_subcategory_data(subdoc,category_name,subcategory[\"name\"],[])  \n",
    "        ## 'data' will give product details of all page till it shows next button using function(get_PaginationWise_SubCategoryData)\n",
    "        ## subCategory[\"name\"] will specify only subcategory name\n",
    "        if len(data) >0:                                              ## Check if it is empty, if no then pass the data\n",
    "            category_data = category_data + data             ## Adding data in list using '+'\n",
    "\n",
    "    return category_data;"
   ]
  },
  {
   "cell_type": "markdown",
   "metadata": {},
   "source": [
    "# Defining a `main` function for puting it all together.\n",
    "\n",
    "- Creating a blank list using `finalData = []`\n",
    "- We have a function `get_BSoupdoc_fromUrl` that parses html data using Beautiful Soup.\n",
    "- We have a function `get_main_categoryList` that gives the category list.\n",
    "- We have a function `get_all_catandsubcat_data` that gives all subcategory data.\n",
    "- We have a function `scrape_single_category` to scrape the selected category and get sub-category product details (Product Name, BuyPrice, MRP, Discount) and save the data  as categoryName.csv \n",
    "- Please note that folder name will be named as categoryName.csv. And it will contain product details (Product Name, BuyPrice, MRP, Discount) for every subcategory of the selected category. "
   ]
  },
  {
   "cell_type": "code",
   "execution_count": 17,
   "metadata": {},
   "outputs": [],
   "source": [
    "def main(category_name):                    ## Defining Main function\n",
    "    finalData = []\n",
    "    main_doc = get_BSoupdoc_fromUrl(main_url);                                  ## Parsing data using BeautifulSoup\n",
    "    category_list = get_main_categoryList(main_doc);                            ## Getting Category List\n",
    "    subcatgory_dictlist = get_all_catandsubcat_data(main_doc,category_list);       ## Getting all subcategory data\n",
    "    data = scrape_single_category(subcatgory_dictlist,category_name)          ## scraping the data\n",
    "    subcat_data_df = pd.DataFrame(data)\n",
    "    subcat_data_df.to_csv(category_name + '.csv', index = None);"
   ]
  },
  {
   "cell_type": "markdown",
   "metadata": {},
   "source": [
    "# Lets run it to scrape the sub-category product details by mentioning category name.\n",
    "\n",
    "Category Names: [  'Veterinary', 'Ayush', 'Fitness', 'Mom & Baby', 'Sexual Wellness', 'Treatments', 'Devices', 'Health Conditions', 'Otc Deals', 'Eyewear', 'Covid Essentials', 'Surgical', 'Diabetes Support', 'Fragrances', 'Make-Up', 'Hair', \"Men's Grooming\", 'Skin Care', 'Tools & Appliances', 'Wellness', 'Personal Care'  ]\n",
    "\n",
    "Input:\n",
    "data = main(Enter one Category Name)"
   ]
  },
  {
   "cell_type": "code",
   "execution_count": 18,
   "metadata": {},
   "outputs": [],
   "source": [
    "data = main(\"Diabetes Support\")\n"
   ]
  },
  {
   "cell_type": "markdown",
   "metadata": {},
   "source": [
    "#### OUTPUT :-\n",
    "\n",
    "By running `data = main(\"Diabetes Support\")`\n",
    "\n",
    "##### It will be executed in following steps:\n",
    "\n",
    "1. Creating a CSV file as categoryName.csv\n",
    "\n",
    "Eg: Created `Diabetes Support.csv` as file.\n",
    "![](https://i.imgur.com/gtAvvDB.png)\n",
    "\n",
    "\n",
    "2. Product details of categoryName.csv file\n",
    "\n",
    "We have selected 'Diabetic Support' as Category Name. \n",
    "Till it contains next button it will get all pages sub-category product details for selected Category Name. The CSV file details are in following format:\n",
    "\n",
    "Category Name, Subcategory Name, Product Name, Buy Price, MRP, Product_Disount.\n",
    "\n",
    "\n",
    "![](https://i.imgur.com/c0BxrL7.png)"
   ]
  },
  {
   "cell_type": "markdown",
   "metadata": {},
   "source": [
    "## Check CSV file.\n",
    "\n",
    "- Diabetic Support category has following sub-category name:\n",
    "\n",
    "1. Diabetic Care- Ayurveda has no next button on webpage so scraped page 1 product details.\n",
    "2. Glucometers has no next button on webpage so scraped page 1 product details.\n",
    "3. Lancets & Test Strips has next button on webpage so scrapped page(1 to 2) product details.\n",
    "4. Sugar Substitutes has next button on webpage so scrapped page(1 to 3) product details.\n",
    "5. Diabetes Management Supplements has next button on webpage so scrapped page(1 to 2) product details."
   ]
  },
  {
   "cell_type": "code",
   "execution_count": 19,
   "metadata": {},
   "outputs": [
    {
     "data": {
      "text/html": [
       "<div>\n",
       "<style scoped>\n",
       "    .dataframe tbody tr th:only-of-type {\n",
       "        vertical-align: middle;\n",
       "    }\n",
       "\n",
       "    .dataframe tbody tr th {\n",
       "        vertical-align: top;\n",
       "    }\n",
       "\n",
       "    .dataframe thead th {\n",
       "        text-align: right;\n",
       "    }\n",
       "</style>\n",
       "<table border=\"1\" class=\"dataframe\">\n",
       "  <thead>\n",
       "    <tr style=\"text-align: right;\">\n",
       "      <th></th>\n",
       "      <th>Category Name</th>\n",
       "      <th>Sub Category Name</th>\n",
       "      <th>Product Name</th>\n",
       "      <th>Buy Price</th>\n",
       "      <th>MRP</th>\n",
       "      <th>product_discount</th>\n",
       "    </tr>\n",
       "  </thead>\n",
       "  <tbody>\n",
       "    <tr>\n",
       "      <th>0</th>\n",
       "      <td>Diabetes Support</td>\n",
       "      <td>Diabetes Care - Ayurveda</td>\n",
       "      <td>Kapiva Karela Jamun Juice 1 ltr</td>\n",
       "      <td>296.65</td>\n",
       "      <td>349.00</td>\n",
       "      <td>15%</td>\n",
       "    </tr>\n",
       "    <tr>\n",
       "      <th>1</th>\n",
       "      <td>Diabetes Support</td>\n",
       "      <td>Diabetes Care - Ayurveda</td>\n",
       "      <td>Kapiva Dia Free Juice 1 ltr</td>\n",
       "      <td>521.55</td>\n",
       "      <td>549.00</td>\n",
       "      <td>5%</td>\n",
       "    </tr>\n",
       "    <tr>\n",
       "      <th>2</th>\n",
       "      <td>Diabetes Support</td>\n",
       "      <td>Diabetes Care - Ayurveda</td>\n",
       "      <td>Kapiva Moringa Capsule 60's</td>\n",
       "      <td>175.00</td>\n",
       "      <td>250.00</td>\n",
       "      <td>30%</td>\n",
       "    </tr>\n",
       "    <tr>\n",
       "      <th>3</th>\n",
       "      <td>Diabetes Support</td>\n",
       "      <td>Diabetes Care - Ayurveda</td>\n",
       "      <td>Kapiva Madhu Tula Green Tea Bag 20's</td>\n",
       "      <td>359.20</td>\n",
       "      <td>449.00</td>\n",
       "      <td>20%</td>\n",
       "    </tr>\n",
       "    <tr>\n",
       "      <th>4</th>\n",
       "      <td>Diabetes Support</td>\n",
       "      <td>Diabetes Care - Ayurveda</td>\n",
       "      <td>Kapiva Dia Free Capsules 60's</td>\n",
       "      <td>299.25</td>\n",
       "      <td>399.00</td>\n",
       "      <td>25%</td>\n",
       "    </tr>\n",
       "    <tr>\n",
       "      <th>...</th>\n",
       "      <td>...</td>\n",
       "      <td>...</td>\n",
       "      <td>...</td>\n",
       "      <td>...</td>\n",
       "      <td>...</td>\n",
       "      <td>...</td>\n",
       "    </tr>\n",
       "    <tr>\n",
       "      <th>115</th>\n",
       "      <td>Diabetes Support</td>\n",
       "      <td>Diabetes Management Supplements</td>\n",
       "      <td>Ensure Diabetes Care Powder - Chocolate Flavou...</td>\n",
       "      <td>710.00</td>\n",
       "      <td>00.00</td>\n",
       "      <td>00.00</td>\n",
       "    </tr>\n",
       "    <tr>\n",
       "      <th>116</th>\n",
       "      <td>Diabetes Support</td>\n",
       "      <td>Diabetes Management Supplements</td>\n",
       "      <td>Evexia D Manage Vanilla Flavour Powder 200 gm</td>\n",
       "      <td>226.20</td>\n",
       "      <td>290.00</td>\n",
       "      <td>22%</td>\n",
       "    </tr>\n",
       "    <tr>\n",
       "      <th>117</th>\n",
       "      <td>Diabetes Support</td>\n",
       "      <td>Diabetes Management Supplements</td>\n",
       "      <td>Nestle Resource Diabetic Powder - Vanilla Flav...</td>\n",
       "      <td>356.25</td>\n",
       "      <td>375.00</td>\n",
       "      <td>5%</td>\n",
       "    </tr>\n",
       "    <tr>\n",
       "      <th>118</th>\n",
       "      <td>Diabetes Support</td>\n",
       "      <td>Diabetes Management Supplements</td>\n",
       "      <td>Nestle Resource Diabetic Powder Chocolate Flav...</td>\n",
       "      <td>799.00</td>\n",
       "      <td>00.00</td>\n",
       "      <td>00.00</td>\n",
       "    </tr>\n",
       "    <tr>\n",
       "      <th>119</th>\n",
       "      <td>Diabetes Support</td>\n",
       "      <td>Diabetes Management Supplements</td>\n",
       "      <td>Azzurra Essential High Calorie Nutrition 2.25 ...</td>\n",
       "      <td>1,295.00</td>\n",
       "      <td>00.00</td>\n",
       "      <td>00.00</td>\n",
       "    </tr>\n",
       "  </tbody>\n",
       "</table>\n",
       "<p>120 rows × 6 columns</p>\n",
       "</div>"
      ],
      "text/plain": [
       "        Category Name                Sub Category Name  \\\n",
       "0    Diabetes Support         Diabetes Care - Ayurveda   \n",
       "1    Diabetes Support         Diabetes Care - Ayurveda   \n",
       "2    Diabetes Support         Diabetes Care - Ayurveda   \n",
       "3    Diabetes Support         Diabetes Care - Ayurveda   \n",
       "4    Diabetes Support         Diabetes Care - Ayurveda   \n",
       "..                ...                              ...   \n",
       "115  Diabetes Support  Diabetes Management Supplements   \n",
       "116  Diabetes Support  Diabetes Management Supplements   \n",
       "117  Diabetes Support  Diabetes Management Supplements   \n",
       "118  Diabetes Support  Diabetes Management Supplements   \n",
       "119  Diabetes Support  Diabetes Management Supplements   \n",
       "\n",
       "                                          Product Name Buy Price      MRP  \\\n",
       "0                      Kapiva Karela Jamun Juice 1 ltr    296.65   349.00   \n",
       "1                          Kapiva Dia Free Juice 1 ltr    521.55   549.00   \n",
       "2                          Kapiva Moringa Capsule 60's    175.00   250.00   \n",
       "3                 Kapiva Madhu Tula Green Tea Bag 20's    359.20   449.00   \n",
       "4                        Kapiva Dia Free Capsules 60's    299.25   399.00   \n",
       "..                                                 ...       ...      ...   \n",
       "115  Ensure Diabetes Care Powder - Chocolate Flavou...    710.00    00.00   \n",
       "116      Evexia D Manage Vanilla Flavour Powder 200 gm    226.20   290.00   \n",
       "117  Nestle Resource Diabetic Powder - Vanilla Flav...    356.25   375.00   \n",
       "118  Nestle Resource Diabetic Powder Chocolate Flav...    799.00    00.00   \n",
       "119  Azzurra Essential High Calorie Nutrition 2.25 ...  1,295.00    00.00   \n",
       "\n",
       "    product_discount  \n",
       "0                15%  \n",
       "1                5%   \n",
       "2                30%  \n",
       "3                20%  \n",
       "4                25%  \n",
       "..               ...  \n",
       "115            00.00  \n",
       "116              22%  \n",
       "117              5%   \n",
       "118            00.00  \n",
       "119            00.00  \n",
       "\n",
       "[120 rows x 6 columns]"
      ]
     },
     "execution_count": 19,
     "metadata": {},
     "output_type": "execute_result"
    }
   ],
   "source": [
    "pd.read_csv('Diabetes Support.csv')"
   ]
  },
  {
   "cell_type": "markdown",
   "metadata": {},
   "source": [
    "# Saving the project on jovian"
   ]
  },
  {
   "cell_type": "code",
   "execution_count": 20,
   "metadata": {
    "scrolled": true
   },
   "outputs": [
    {
     "data": {
      "application/javascript": [
       "window.require && require([\"base/js/namespace\"],function(Jupyter){Jupyter.notebook.save_checkpoint()})"
      ],
      "text/plain": [
       "<IPython.core.display.Javascript object>"
      ]
     },
     "metadata": {},
     "output_type": "display_data"
    },
    {
     "name": "stdout",
     "output_type": "stream",
     "text": [
      "[jovian] Updating notebook \"rahulhande2780/finalscrape-netmeds-com-project\" on https://jovian.ai\u001b[0m\n",
      "[jovian] Committed successfully! https://jovian.ai/rahulhande2780/finalscrape-netmeds-com-project\u001b[0m\n"
     ]
    },
    {
     "data": {
      "text/plain": [
       "'https://jovian.ai/rahulhande2780/finalscrape-netmeds-com-project'"
      ]
     },
     "execution_count": 20,
     "metadata": {},
     "output_type": "execute_result"
    }
   ],
   "source": [
    "# Execute this to save new versions of the notebook\n",
    "jovian.commit(project=\"finalscrape-netmeds-com-project\")"
   ]
  },
  {
   "cell_type": "markdown",
   "metadata": {},
   "source": [
    "## Saving the project and uploading additional file on \n",
    "https://jovian.ai/rahulhande2780/finalscrape-netmeds-com-project"
   ]
  },
  {
   "cell_type": "code",
   "execution_count": null,
   "metadata": {},
   "outputs": [
    {
     "data": {
      "application/javascript": [
       "window.require && require([\"base/js/namespace\"],function(Jupyter){Jupyter.notebook.save_checkpoint()})"
      ],
      "text/plain": [
       "<IPython.core.display.Javascript object>"
      ]
     },
     "metadata": {},
     "output_type": "display_data"
    }
   ],
   "source": [
    "jovian.commit(files=['Diabetes Support.csv'])"
   ]
  },
  {
   "cell_type": "markdown",
   "metadata": {},
   "source": [
    "# Summary\n",
    "\n",
    "1. We had define the webpage as mainUrl = \"https://www.netmeds.com/non-prescriptions/diabetes-support\".\n",
    "2. We had define a function `getBSoupDocFromUrl` which download the webpage using `requests` and parse the data using `Beautiful Soup`\n",
    "3. We had define a function `getMainCategoryList` to get the list of categories Names.\n",
    "4. We had define a function `getSubCategoryOfCategory` to get the list of subcategories (name and href)\n",
    "5. We had define a function `getAllSubCategoryData` to get the list of all subcategories and categories.\n",
    "6. We had define a function `getProductListOfSubCategory` for getting Product Name, BuyPrice, MRP, Discount and create dictionary `create_dict` to add product details in dictionary.\n",
    "7. We had define a function `get_PaginationWise_SubCategoryData` for getting current and next page product details till it has next button.\n",
    "7. We had define a function `scrape_Single_category` to compile python list and dictionary and save it into CSV file.\n",
    "8. We had define a function `main`. By mentioning Category Name in `main` function, we will retrive categoryName.CSV data which contains the list of product details for every sub-category of the selected category."
   ]
  },
  {
   "cell_type": "markdown",
   "metadata": {},
   "source": [
    "#  References \n",
    "- References of links that we found useful:\n",
    "1. https://jovian.ai/learn/zero-to-data-analyst-bootcamp/assignment/project-web-scraping-with-python\n",
    "2. https://realpython.com/python-requests/\n",
    "3. https://www.geeksforgeeks.org/implementing-web-scraping-python-beautiful-soup/\n",
    "2. https://stackoverflow.com/questions/55507926/create-folders-dynamically-and-write-csv-files-to-that-folders\n",
    "3. https://stackoverflow.com/questions/1720421/how-do-i-concatenate-two-lists-in-python\n"
   ]
  },
  {
   "cell_type": "markdown",
   "metadata": {},
   "source": [
    "# Future Work\n",
    "- Ideas for future work:\n",
    "1. We can fetch product image, product Rating and reviews, Mkt, Country of Origin\n",
    "2. We can fetch the medicine data from https://www.netmeds.com/prescriptions\n",
    "3. We can fetch the healthcare official blogs from https://www.netmeds.com/health-library\n",
    "4. We can fetch wellness category that are containing list of products."
   ]
  }
 ],
 "metadata": {
  "language_info": {
   "codemirror_mode": {
    "name": "ipython",
    "version": 3
   },
   "file_extension": ".py",
   "mimetype": "text/x-python",
   "name": "python",
   "nbconvert_exporter": "python",
   "pygments_lexer": "ipython3",
   "version": "3.9.6"
  }
 },
 "nbformat": 4,
 "nbformat_minor": 2
}